{
 "cells": [
  {
   "cell_type": "code",
   "execution_count": 1,
   "id": "3a31aa39",
   "metadata": {},
   "outputs": [],
   "source": [
    "import warnings\n",
    "warnings.simplefilter(\"ignore\")\n",
    "import pandas as pd\n",
    "import numpy as np\n",
    "import matplotlib.pyplot as plt\n",
    "from scipy import optimize\n",
    "from datetime import datetime, timedelta"
   ]
  },
  {
   "cell_type": "code",
   "execution_count": 14,
   "id": "7d74e852",
   "metadata": {},
   "outputs": [
    {
     "data": {
      "text/html": [
       "<div>\n",
       "<style scoped>\n",
       "    .dataframe tbody tr th:only-of-type {\n",
       "        vertical-align: middle;\n",
       "    }\n",
       "\n",
       "    .dataframe tbody tr th {\n",
       "        vertical-align: top;\n",
       "    }\n",
       "\n",
       "    .dataframe thead th {\n",
       "        text-align: right;\n",
       "    }\n",
       "</style>\n",
       "<table border=\"1\" class=\"dataframe\">\n",
       "  <thead>\n",
       "    <tr style=\"text-align: right;\">\n",
       "      <th></th>\n",
       "      <th>Total Confirmados</th>\n",
       "    </tr>\n",
       "    <tr>\n",
       "      <th>Data</th>\n",
       "      <th></th>\n",
       "    </tr>\n",
       "  </thead>\n",
       "  <tbody>\n",
       "    <tr>\n",
       "      <th>2020-03-16</th>\n",
       "      <td>1</td>\n",
       "    </tr>\n",
       "    <tr>\n",
       "      <th>2020-03-17</th>\n",
       "      <td>1</td>\n",
       "    </tr>\n",
       "    <tr>\n",
       "      <th>2020-03-18</th>\n",
       "      <td>3</td>\n",
       "    </tr>\n",
       "    <tr>\n",
       "      <th>2020-03-19</th>\n",
       "      <td>3</td>\n",
       "    </tr>\n",
       "    <tr>\n",
       "      <th>2020-03-20</th>\n",
       "      <td>3</td>\n",
       "    </tr>\n",
       "  </tbody>\n",
       "</table>\n",
       "</div>"
      ],
      "text/plain": [
       "            Total Confirmados\n",
       "Data                         \n",
       "2020-03-16                  1\n",
       "2020-03-17                  1\n",
       "2020-03-18                  3\n",
       "2020-03-19                  3\n",
       "2020-03-20                  3"
      ]
     },
     "execution_count": 14,
     "metadata": {},
     "output_type": "execute_result"
    }
   ],
   "source": [
    "# Carregando os dados\n",
    "df = pd.read_csv(\"data.csv.txt\")\n",
    "df.head()\n",
    "\n",
    "\n",
    "df.index = pd.to_datetime(df.Data, infer_datetime_format=True)\n",
    "df.drop(\"Data\", 1, inplace=True)\n",
    "\n",
    "#Selecionando apenas coluca de \"Total Confirmados\"\n",
    "\n",
    "df = df[[\"Total Confirmados\"]]\n",
    "\n",
    "#Renomeando a coluna para \"total\"\n",
    "df.colums = [\"total\"]\n",
    "\n",
    "#visualizando as 5 primeiras linhas do conjunto de dados\n",
    "df.head()"
   ]
  },
  {
   "cell_type": "code",
   "execution_count": 18,
   "id": "97449270",
   "metadata": {},
   "outputs": [
    {
     "data": {
      "image/png": "[encoded data removed]",
      "text/plain": [
       "<Figure size 936x360 with 1 Axes>"
      ]
     },
     "metadata": {
      "needs_background": "light"
     },
     "output_type": "display_data"
    }
   ],
   "source": [
    "fig, ax = plt.subplots(figsize=(13,5))\n",
    "ax.scatter(\n",
    "    df[\"Total Confirmados\"].index,\n",
    "    df[\"Total Confirmados\"].values,\n",
    "    color=\"black\"\n",
    ")\n",
    "plt.show()"
   ]
  },
  {
   "cell_type": "code",
   "execution_count": 19,
   "id": "f9bdd2ad",
   "metadata": {},
   "outputs": [
    {
     "data": {
      "image/png": "[encoded data removed]",
      "text/plain": [
       "<Figure size 432x288 with 1 Axes>"
      ]
     },
     "metadata": {
      "needs_background": "light"
     },
     "output_type": "display_data"
    }
   ],
   "source": [
    "\n",
    "# funcão exponecial com parâmetros a, b e c\n",
    "def exp_func(X, a, b, c):\n",
    "    y = a + b**(X-c)\n",
    "    return y\n",
    "\n",
    "# otimização usando scipy\n",
    "popt, pcov = optimize.curve_fit(exp_func, np.arange(len(df[\"Total Confirmados\"])), df[\"Total Confirmados\"].values)\n",
    "\n",
    "# gráfico\n",
    "plt.plot(np.arange(len(df[\"Total Confirmados\"])), exp_func(np.arange(len(df[\"Total Confirmados\"])), *popt), 'g--',\n",
    "         label='fit: a=%5.3f, b=%5.3f, c=%5.3f' % tuple(popt))\n",
    "plt.plot(np.arange(len(df[\"Total Confirmados\"])), df[\"Total Confirmados\"].values)\n",
    "plt.xlabel('x')\n",
    "plt.ylabel('y')\n",
    "plt.legend()\n",
    "plt.show()"
   ]
  },
  {
   "cell_type": "code",
   "execution_count": 21,
   "id": "4aa46c02",
   "metadata": {},
   "outputs": [
    {
     "name": "stdout",
     "output_type": "stream",
     "text": [
      "Amanhã: 257059973951\n",
      "Depois de amanhã: 268370612806\n"
     ]
    }
   ],
   "source": [
    "# criando função pra converter data em dias\n",
    "def data_to_days(date):\n",
    "    x = (date - df.index[-1]).days + len(df['Total Confirmados'])\n",
    "    return x\n",
    "\n",
    "# criando o modelo usando os parâmetros ajustados\n",
    "def exp_model(X):\n",
    "    X = data_to_days(X)\n",
    "    y = -9.395 + 1.044 ** (X - (-52.146))\n",
    "    return int(y)\n",
    "\n",
    "tomorrow = datetime.today() + timedelta(days=1)\n",
    "after_tomorrow = datetime.today() + timedelta(days=2)\n",
    "\n",
    "print(\"Amanhã:\", exp_model(tomorrow))\n",
    "print(\"Depois de amanhã:\", exp_model(after_tomorrow))"
   ]
  },
  {
   "cell_type": "code",
   "execution_count": null,
   "id": "34986c69",
   "metadata": {},
   "outputs": [],
   "source": []
  },
  {
   "cell_type": "code",
   "execution_count": null,
   "id": "ea015ee5",
   "metadata": {},
   "outputs": [],
   "source": []
  }
 ],
 "metadata": {
  "kernelspec": {
   "display_name": "Python 3",
   "language": "python",
   "name": "python3"
  },
  "language_info": {
   "codemirror_mode": {
    "name": "ipython",
    "version": 3
   },
   "file_extension": ".py",
   "mimetype": "text/x-python",
   "name": "python",
   "nbconvert_exporter": "python",
   "pygments_lexer": "ipython3",
   "version": "3.8.8"
  }
 },
 "nbformat": 4,
 "nbformat_minor": 5
}
